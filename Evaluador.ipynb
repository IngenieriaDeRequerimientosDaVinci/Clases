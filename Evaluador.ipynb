{
  "nbformat": 4,
  "nbformat_minor": 0,
  "metadata": {
    "colab": {
      "private_outputs": true,
      "provenance": [],
      "authorship_tag": "ABX9TyPGGAQcP4fJSRiJawwf8Akn",
      "include_colab_link": true
    },
    "kernelspec": {
      "name": "python3",
      "display_name": "Python 3"
    },
    "language_info": {
      "name": "python"
    }
  },
  "cells": [
    {
      "cell_type": "markdown",
      "metadata": {
        "id": "view-in-github",
        "colab_type": "text"
      },
      "source": [
        "<a href=\"https://colab.research.google.com/github/IngenieriaDeRequerimientosDaVinci/Clases/blob/main/Evaluador.ipynb\" target=\"_parent\"><img src=\"https://colab.research.google.com/assets/colab-badge.svg\" alt=\"Open In Colab\"/></a>"
      ]
    },
    {
      "cell_type": "code",
      "execution_count": null,
      "metadata": {
        "id": "Bpo34Nsg4AXC"
      },
      "outputs": [],
      "source": [
        "!pip install -q -U google-generativeai"
      ]
    },
    {
      "cell_type": "code",
      "source": [
        "# @title Code\n",
        "import pathlib\n",
        "import textwrap\n",
        "import google.generativeai as genai\n",
        "# Used to securely store your API key\n",
        "from google.colab import userdata\n",
        "from IPython.display import display\n",
        "from IPython.display import Markdown\n",
        "\n",
        "GOOGLE_API_KEY=userdata.get('GOOGLE_API_KEY')\n",
        "\n",
        "genai.configure(api_key=GOOGLE_API_KEY)\n",
        "model = genai.GenerativeModel('gemini-pro')\n",
        "def qna(p,r):\n",
        "  template =\"\"\"Sobre esta pregunta: {{\"\"\" + p + \"\"\"}}\n",
        "  Evalua la respuesta: {{\"\"\" + r + \"\"\"}} considerando que debe tener\n",
        "  la calidad de la respuesta de un estudiante de ingeniería de requerimientos\n",
        "  Y despues de la evaluación responde con un feedback sobre la respuesta,\n",
        "  agregando lo que consideres que tambien deberia saber sobre la pregunta.\n",
        "  Finalmente evalualo de 1 a 10\n",
        "  \"\"\"\n",
        "  text = model.generate_content(template).text\n",
        "  text = text.replace('•', '  *')\n",
        "  display(Markdown(textwrap.indent(text, '> ', predicate=lambda _: True)))"
      ],
      "metadata": {
        "id": "K1ntEQzp4IsA"
      },
      "execution_count": null,
      "outputs": []
    },
    {
      "cell_type": "code",
      "source": [
        "qna(\"\"\"\n",
        "Que es un requerimiento en ingenieria de requerimientos\n",
        "\"\"\",\n",
        "\"\"\"\n",
        "RESPUESTA:\n",
        "un requerimiento es lo que se pide para realizar un producto software, este tiene que ser claro, no ambiguo\n",
        "\"\"\")"
      ],
      "metadata": {
        "id": "XteF-1_z4uXw"
      },
      "execution_count": null,
      "outputs": []
    }
  ]
}